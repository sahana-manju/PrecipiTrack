{
  "nbformat": 4,
  "nbformat_minor": 0,
  "metadata": {
    "colab": {
      "name": "Hyperparameter.ipynb",
      "provenance": [],
      "collapsed_sections": []
    },
    "kernelspec": {
      "display_name": "Python 3",
      "name": "python3"
    },
    "language_info": {
      "name": "python"
    }
  },
  "cells": [
    {
      "cell_type": "code",
      "metadata": {
        "colab": {
          "base_uri": "https://localhost:8080/"
        },
        "id": "JcLeNtrOOEJu",
        "outputId": "3806352e-e4c2-4db0-cc51-e0ed11ca7def"
      },
      "source": [
        "from google.colab import drive\n",
        "drive.mount('/content/drive')"
      ],
      "execution_count": null,
      "outputs": [
        {
          "output_type": "stream",
          "text": [
            "Mounted at /content/drive\n"
          ],
          "name": "stdout"
        }
      ]
    },
    {
      "cell_type": "code",
      "metadata": {
        "id": "9hDKESFxOFek"
      },
      "source": [
        "import numpy as np \n",
        "import pandas as pd \n",
        "import tensorflow as tf"
      ],
      "execution_count": null,
      "outputs": []
    },
    {
      "cell_type": "code",
      "metadata": {
        "id": "H4QNo1PBCDRv"
      },
      "source": [
        "train_data = pd.read_csv('/content/drive/MyDrive/train.csv',nrows=3e6)\n",
        "raw_ids_all = train_data[\"Id\"]#only ids\n",
        "raw_ids = raw_ids_all.unique()#unique ids"
      ],
      "execution_count": null,
      "outputs": []
    },
    {
      "cell_type": "code",
      "metadata": {
        "id": "re1uy-giCLtJ"
      },
      "source": [
        "for column in train_data.columns:\n",
        "    train_data[column] = train_data[column].astype(np.float32)\n",
        "train_data['Id'] = train_data['Id'].astype(np.int32)"
      ],
      "execution_count": null,
      "outputs": []
    },
    {
      "cell_type": "code",
      "metadata": {
        "id": "TW_N3LWhCgPU"
      },
      "source": [
        "train_data.dropna(subset=['Ref'],inplace=True)"
      ],
      "execution_count": null,
      "outputs": []
    },
    {
      "cell_type": "code",
      "metadata": {
        "colab": {
          "base_uri": "https://localhost:8080/"
        },
        "id": "2zrhAUpKGV8m",
        "outputId": "322e1487-8825-4cab-e5c7-52ff010dc4e0"
      },
      "source": [
        "train_data.fillna(0,inplace=True)\n",
        "train_data.shape"
      ],
      "execution_count": null,
      "outputs": [
        {
          "output_type": "execute_result",
          "data": {
            "text/plain": [
              "(1401897, 24)"
            ]
          },
          "metadata": {
            "tags": []
          },
          "execution_count": 51
        }
      ]
    },
    {
      "cell_type": "code",
      "metadata": {
        "colab": {
          "base_uri": "https://localhost:8080/"
        },
        "id": "gbv0XINRHyuI",
        "outputId": "6a550b36-0d17-419d-ce15-60102c54a0cc"
      },
      "source": [
        "train_new_group = train_new.groupby('Id')\n",
        "df = pd.DataFrame(train_new_group['Expected'].mean()) # mean, or any value\n",
        "meaningful_ids = np.array(df[df['Expected'] < 73].index)\n",
        "print(len(meaningful_ids))"
      ],
      "execution_count": null,
      "outputs": [
        {
          "output_type": "stream",
          "text": [
            "157580\n"
          ],
          "name": "stdout"
        }
      ]
    },
    {
      "cell_type": "code",
      "metadata": {
        "colab": {
          "base_uri": "https://localhost:8080/"
        },
        "id": "Reyo7AIsH6GQ",
        "outputId": "7cd4eadf-b1fb-4525-bfec-09807bb92912"
      },
      "source": [
        "train_final = train_new[np.in1d(train_new.Id, meaningful_ids)]\n",
        "train_data.columns"
      ],
      "execution_count": null,
      "outputs": [
        {
          "output_type": "execute_result",
          "data": {
            "text/plain": [
              "Index(['Id', 'minutes_past', 'radardist_km', 'Ref', 'Ref_5x5_10th',\n",
              "       'Ref_5x5_50th', 'Ref_5x5_90th', 'RefComposite', 'RefComposite_5x5_10th',\n",
              "       'RefComposite_5x5_50th', 'RefComposite_5x5_90th', 'RhoHV',\n",
              "       'RhoHV_5x5_10th', 'RhoHV_5x5_50th', 'RhoHV_5x5_90th', 'Zdr',\n",
              "       'Zdr_5x5_10th', 'Zdr_5x5_50th', 'Zdr_5x5_90th', 'Kdp', 'Kdp_5x5_10th',\n",
              "       'Kdp_5x5_50th', 'Kdp_5x5_90th', 'Expected'],\n",
              "      dtype='object')"
            ]
          },
          "metadata": {
            "tags": []
          },
          "execution_count": 53
        }
      ]
    },
    {
      "cell_type": "code",
      "metadata": {
        "id": "2CRXexb5Yrjx"
      },
      "source": [
        "train_data = train_data.groupby('Id')\n",
        "expected = train_data['Expected'].mean().values\n",
        "minutes_past=train_data['minutes_past'].max().values\n",
        "ref=train_data['Ref'].mean().values\n",
        "ref1=train_data['Ref_5x5_10th'].mean().values\n",
        "ref5=train_data['Ref_5x5_50th'].mean().values\n",
        "ref9=train_data['Ref_5x5_90th'].mean().values\n",
        "ref_c=train_data['RefComposite'].mean().values\n",
        "ref_c1=train_data['RefComposite_5x5_10th'].mean().values\n",
        "ref_c5=train_data['RefComposite_5x5_50th'].mean().values\n",
        "ref_c9=train_data['RefComposite_5x5_90th'].mean().values\n",
        "rhohv=train_data['RhoHV'].mean().values\n",
        "rhohv1=train_data['RhoHV_5x5_10th'].mean().values\n",
        "rhohv5=train_data['RhoHV_5x5_50th'].mean().values\n",
        "rhohv9=train_data['RhoHV_5x5_90th'].mean().values\n",
        "zdr=train_data['Zdr'].mean().values\n",
        "zdr1=train_data['Zdr_5x5_10th'].mean().values\n",
        "zdr5=train_data['Zdr_5x5_50th'].mean().values\n",
        "zdr9=train_data['Zdr_5x5_90th'].mean().values\n",
        "kdp=train_data['Kdp'].mean().values\n",
        "kdp1=train_data['Kdp_5x5_10th'].mean().values\n",
        "kdp5=train_data['Kdp_5x5_10th'].mean().values\n",
        "kdp9=train_data['Kdp_5x5_10th'].mean().values\n",
        "id=train_data['Id'].mean().values\n"
      ],
      "execution_count": null,
      "outputs": []
    },
    {
      "cell_type": "code",
      "metadata": {
        "colab": {
          "base_uri": "https://localhost:8080/",
          "height": 226
        },
        "id": "AQNAyIcCY5Sv",
        "outputId": "6ae5fcb9-f234-497f-a9f3-dd9bb6524102"
      },
      "source": [
        "train_final=pd.DataFrame({'Id':id,\n",
        "                          'minutes_past':minutes_past,\n",
        "                          'Ref':ref,\n",
        "                          'Ref_5x5_10th':ref1,\n",
        "                          'Ref_5x5_50th':ref5,\n",
        "                          'Ref_5x5_90th':ref9,\n",
        "                          'RefComposite':ref_c,\n",
        "                          'RefComposite_5x5_10th':ref_c1,\n",
        "                          'RefComposite_5x5_50th':ref_c5,\n",
        "                          'RefComposite_5x5_90th':ref_c9,\n",
        "                          'RhoHV':rhohv,\n",
        "                          'RhoHV_5x5_10th':rhohv1,\n",
        "                          'RhoHV_5x5_50th':rhohv5,\n",
        "                          'RhoHV_5x5_90th':rhohv9,\n",
        "                          'Zdr':zdr,\n",
        "                          'Zdr_5x5_10th':zdr1,\n",
        "                          'Zdr_5x5_50th':zdr5,\n",
        "                          'Zdr_5x5_90th':zdr9,\n",
        "                          'Kdp':kdp,\n",
        "                          'Kdp_5x5_10th':kdp1,\n",
        "                          'Kdp_5x5_50th':kdp5,\n",
        "                          'Kdp_5x5_90th':kdp9,\n",
        "                          'Expected':expected})\n",
        "train_final.head()"
      ],
      "execution_count": null,
      "outputs": [
        {
          "output_type": "execute_result",
          "data": {
            "text/html": [
              "<div>\n",
              "<style scoped>\n",
              "    .dataframe tbody tr th:only-of-type {\n",
              "        vertical-align: middle;\n",
              "    }\n",
              "\n",
              "    .dataframe tbody tr th {\n",
              "        vertical-align: top;\n",
              "    }\n",
              "\n",
              "    .dataframe thead th {\n",
              "        text-align: right;\n",
              "    }\n",
              "</style>\n",
              "<table border=\"1\" class=\"dataframe\">\n",
              "  <thead>\n",
              "    <tr style=\"text-align: right;\">\n",
              "      <th></th>\n",
              "      <th>Id</th>\n",
              "      <th>minutes_past</th>\n",
              "      <th>Ref</th>\n",
              "      <th>Ref_5x5_10th</th>\n",
              "      <th>Ref_5x5_50th</th>\n",
              "      <th>Ref_5x5_90th</th>\n",
              "      <th>RefComposite</th>\n",
              "      <th>RefComposite_5x5_10th</th>\n",
              "      <th>RefComposite_5x5_50th</th>\n",
              "      <th>RefComposite_5x5_90th</th>\n",
              "      <th>RhoHV</th>\n",
              "      <th>RhoHV_5x5_10th</th>\n",
              "      <th>RhoHV_5x5_50th</th>\n",
              "      <th>RhoHV_5x5_90th</th>\n",
              "      <th>Zdr</th>\n",
              "      <th>Zdr_5x5_10th</th>\n",
              "      <th>Zdr_5x5_50th</th>\n",
              "      <th>Zdr_5x5_90th</th>\n",
              "      <th>Kdp</th>\n",
              "      <th>Kdp_5x5_10th</th>\n",
              "      <th>Kdp_5x5_50th</th>\n",
              "      <th>Kdp_5x5_90th</th>\n",
              "      <th>Expected</th>\n",
              "    </tr>\n",
              "  </thead>\n",
              "  <tbody>\n",
              "    <tr>\n",
              "      <th>0</th>\n",
              "      <td>2</td>\n",
              "      <td>58.0</td>\n",
              "      <td>16.625000</td>\n",
              "      <td>13.666667</td>\n",
              "      <td>17.375000</td>\n",
              "      <td>21.333334</td>\n",
              "      <td>22.666666</td>\n",
              "      <td>20.375000</td>\n",
              "      <td>22.916666</td>\n",
              "      <td>25.916666</td>\n",
              "      <td>0.998611</td>\n",
              "      <td>0.993611</td>\n",
              "      <td>0.998333</td>\n",
              "      <td>1.000000</td>\n",
              "      <td>0.380208</td>\n",
              "      <td>0.119792</td>\n",
              "      <td>0.416667</td>\n",
              "      <td>0.781250</td>\n",
              "      <td>-0.264172</td>\n",
              "      <td>-1.086670</td>\n",
              "      <td>-1.086670</td>\n",
              "      <td>-1.086670</td>\n",
              "      <td>1.016001</td>\n",
              "    </tr>\n",
              "    <tr>\n",
              "      <th>1</th>\n",
              "      <td>4</td>\n",
              "      <td>56.0</td>\n",
              "      <td>26.600000</td>\n",
              "      <td>14.050000</td>\n",
              "      <td>25.799999</td>\n",
              "      <td>33.650002</td>\n",
              "      <td>30.150000</td>\n",
              "      <td>22.000000</td>\n",
              "      <td>28.900000</td>\n",
              "      <td>35.250000</td>\n",
              "      <td>0.098833</td>\n",
              "      <td>0.000000</td>\n",
              "      <td>0.098833</td>\n",
              "      <td>0.205000</td>\n",
              "      <td>-0.112500</td>\n",
              "      <td>0.000000</td>\n",
              "      <td>0.050000</td>\n",
              "      <td>0.493750</td>\n",
              "      <td>0.703000</td>\n",
              "      <td>0.000000</td>\n",
              "      <td>0.000000</td>\n",
              "      <td>0.000000</td>\n",
              "      <td>4.064002</td>\n",
              "    </tr>\n",
              "    <tr>\n",
              "      <th>2</th>\n",
              "      <td>7</td>\n",
              "      <td>11.0</td>\n",
              "      <td>14.750000</td>\n",
              "      <td>5.250000</td>\n",
              "      <td>13.750000</td>\n",
              "      <td>18.000000</td>\n",
              "      <td>16.000000</td>\n",
              "      <td>11.000000</td>\n",
              "      <td>14.250000</td>\n",
              "      <td>18.000000</td>\n",
              "      <td>0.000000</td>\n",
              "      <td>0.000000</td>\n",
              "      <td>0.000000</td>\n",
              "      <td>0.000000</td>\n",
              "      <td>0.000000</td>\n",
              "      <td>0.000000</td>\n",
              "      <td>0.000000</td>\n",
              "      <td>0.000000</td>\n",
              "      <td>0.000000</td>\n",
              "      <td>0.000000</td>\n",
              "      <td>0.000000</td>\n",
              "      <td>0.000000</td>\n",
              "      <td>0.508000</td>\n",
              "    </tr>\n",
              "    <tr>\n",
              "      <th>3</th>\n",
              "      <td>8</td>\n",
              "      <td>54.0</td>\n",
              "      <td>19.600000</td>\n",
              "      <td>10.850000</td>\n",
              "      <td>19.200001</td>\n",
              "      <td>26.000000</td>\n",
              "      <td>24.200001</td>\n",
              "      <td>20.200001</td>\n",
              "      <td>23.650000</td>\n",
              "      <td>28.250000</td>\n",
              "      <td>0.273167</td>\n",
              "      <td>0.279500</td>\n",
              "      <td>0.298833</td>\n",
              "      <td>0.610667</td>\n",
              "      <td>0.412500</td>\n",
              "      <td>-0.243750</td>\n",
              "      <td>0.112500</td>\n",
              "      <td>0.531250</td>\n",
              "      <td>-0.105000</td>\n",
              "      <td>-0.810001</td>\n",
              "      <td>-0.810001</td>\n",
              "      <td>-0.810001</td>\n",
              "      <td>3.225002</td>\n",
              "    </tr>\n",
              "    <tr>\n",
              "      <th>4</th>\n",
              "      <td>10</td>\n",
              "      <td>53.0</td>\n",
              "      <td>33.958332</td>\n",
              "      <td>30.291666</td>\n",
              "      <td>33.625000</td>\n",
              "      <td>37.125000</td>\n",
              "      <td>34.791668</td>\n",
              "      <td>32.125000</td>\n",
              "      <td>34.791668</td>\n",
              "      <td>38.000000</td>\n",
              "      <td>0.902778</td>\n",
              "      <td>0.835833</td>\n",
              "      <td>0.945833</td>\n",
              "      <td>0.987500</td>\n",
              "      <td>0.255208</td>\n",
              "      <td>-1.031250</td>\n",
              "      <td>0.526042</td>\n",
              "      <td>2.838542</td>\n",
              "      <td>-1.404172</td>\n",
              "      <td>-5.938337</td>\n",
              "      <td>-5.938337</td>\n",
              "      <td>-5.938337</td>\n",
              "      <td>0.010000</td>\n",
              "    </tr>\n",
              "  </tbody>\n",
              "</table>\n",
              "</div>"
            ],
            "text/plain": [
              "   Id  minutes_past        Ref  ...  Kdp_5x5_50th  Kdp_5x5_90th  Expected\n",
              "0   2          58.0  16.625000  ...     -1.086670     -1.086670  1.016001\n",
              "1   4          56.0  26.600000  ...      0.000000      0.000000  4.064002\n",
              "2   7          11.0  14.750000  ...      0.000000      0.000000  0.508000\n",
              "3   8          54.0  19.600000  ...     -0.810001     -0.810001  3.225002\n",
              "4  10          53.0  33.958332  ...     -5.938337     -5.938337  0.010000\n",
              "\n",
              "[5 rows x 23 columns]"
            ]
          },
          "metadata": {
            "tags": []
          },
          "execution_count": 55
        }
      ]
    },
    {
      "cell_type": "code",
      "metadata": {
        "id": "M5zrzExPJ4cp"
      },
      "source": [
        "train_final.drop(['Id'],axis=1,inplace=True)"
      ],
      "execution_count": null,
      "outputs": []
    },
    {
      "cell_type": "code",
      "metadata": {
        "colab": {
          "base_uri": "https://localhost:8080/"
        },
        "id": "jTxp8KdEK-_J",
        "outputId": "50496658-a16f-4365-faa4-3630883579d7"
      },
      "source": [
        "train_final.shape"
      ],
      "execution_count": null,
      "outputs": [
        {
          "output_type": "execute_result",
          "data": {
            "text/plain": [
              "(161016, 22)"
            ]
          },
          "metadata": {
            "tags": []
          },
          "execution_count": 57
        }
      ]
    },
    {
      "cell_type": "code",
      "metadata": {
        "id": "5Tm3qvK5IDO3"
      },
      "source": [
        "from sklearn.preprocessing import StandardScaler\n",
        "sc=StandardScaler()\n",
        "train_final.iloc[:,:-1]=sc.fit_transform(train_final.iloc[:,:-1])"
      ],
      "execution_count": null,
      "outputs": []
    },
    {
      "cell_type": "code",
      "metadata": {
        "id": "CBBgQLj3IO2M"
      },
      "source": [
        "train_data=train_final"
      ],
      "execution_count": null,
      "outputs": []
    },
    {
      "cell_type": "code",
      "metadata": {
        "colab": {
          "base_uri": "https://localhost:8080/",
          "height": 226
        },
        "id": "UY5ZPYxfL_Yu",
        "outputId": "9de2f99d-1ed3-4e44-dd76-33719fbe961a"
      },
      "source": [
        "train_final.head()\n"
      ],
      "execution_count": null,
      "outputs": [
        {
          "output_type": "execute_result",
          "data": {
            "text/html": [
              "<div>\n",
              "<style scoped>\n",
              "    .dataframe tbody tr th:only-of-type {\n",
              "        vertical-align: middle;\n",
              "    }\n",
              "\n",
              "    .dataframe tbody tr th {\n",
              "        vertical-align: top;\n",
              "    }\n",
              "\n",
              "    .dataframe thead th {\n",
              "        text-align: right;\n",
              "    }\n",
              "</style>\n",
              "<table border=\"1\" class=\"dataframe\">\n",
              "  <thead>\n",
              "    <tr style=\"text-align: right;\">\n",
              "      <th></th>\n",
              "      <th>minutes_past</th>\n",
              "      <th>Ref</th>\n",
              "      <th>Ref_5x5_10th</th>\n",
              "      <th>Ref_5x5_50th</th>\n",
              "      <th>Ref_5x5_90th</th>\n",
              "      <th>RefComposite</th>\n",
              "      <th>RefComposite_5x5_10th</th>\n",
              "      <th>RefComposite_5x5_50th</th>\n",
              "      <th>RefComposite_5x5_90th</th>\n",
              "      <th>RhoHV</th>\n",
              "      <th>RhoHV_5x5_10th</th>\n",
              "      <th>RhoHV_5x5_50th</th>\n",
              "      <th>RhoHV_5x5_90th</th>\n",
              "      <th>Zdr</th>\n",
              "      <th>Zdr_5x5_10th</th>\n",
              "      <th>Zdr_5x5_50th</th>\n",
              "      <th>Zdr_5x5_90th</th>\n",
              "      <th>Kdp</th>\n",
              "      <th>Kdp_5x5_10th</th>\n",
              "      <th>Kdp_5x5_50th</th>\n",
              "      <th>Kdp_5x5_90th</th>\n",
              "      <th>Expected</th>\n",
              "    </tr>\n",
              "  </thead>\n",
              "  <tbody>\n",
              "    <tr>\n",
              "      <th>0</th>\n",
              "      <td>0.623684</td>\n",
              "      <td>-0.599943</td>\n",
              "      <td>-0.023069</td>\n",
              "      <td>-0.313917</td>\n",
              "      <td>-0.610263</td>\n",
              "      <td>-0.130157</td>\n",
              "      <td>0.347509</td>\n",
              "      <td>0.028735</td>\n",
              "      <td>-0.294431</td>\n",
              "      <td>1.106459</td>\n",
              "      <td>1.384827</td>\n",
              "      <td>1.077483</td>\n",
              "      <td>0.808776</td>\n",
              "      <td>0.135901</td>\n",
              "      <td>0.832335</td>\n",
              "      <td>0.402787</td>\n",
              "      <td>-0.390502</td>\n",
              "      <td>-0.287814</td>\n",
              "      <td>0.126291</td>\n",
              "      <td>0.126291</td>\n",
              "      <td>0.126291</td>\n",
              "      <td>1.016001</td>\n",
              "    </tr>\n",
              "    <tr>\n",
              "      <th>1</th>\n",
              "      <td>0.482966</td>\n",
              "      <td>0.622764</td>\n",
              "      <td>0.017337</td>\n",
              "      <td>0.603681</td>\n",
              "      <td>0.776894</td>\n",
              "      <td>0.733829</td>\n",
              "      <td>0.502500</td>\n",
              "      <td>0.644389</td>\n",
              "      <td>0.712285</td>\n",
              "      <td>-1.047446</td>\n",
              "      <td>-1.072048</td>\n",
              "      <td>-1.033426</td>\n",
              "      <td>-1.047201</td>\n",
              "      <td>-0.640949</td>\n",
              "      <td>0.603565</td>\n",
              "      <td>-0.270522</td>\n",
              "      <td>-0.608884</td>\n",
              "      <td>0.698520</td>\n",
              "      <td>0.789147</td>\n",
              "      <td>0.789147</td>\n",
              "      <td>0.789147</td>\n",
              "      <td>4.064002</td>\n",
              "    </tr>\n",
              "    <tr>\n",
              "      <th>2</th>\n",
              "      <td>-2.683185</td>\n",
              "      <td>-0.829775</td>\n",
              "      <td>-0.910235</td>\n",
              "      <td>-0.708729</td>\n",
              "      <td>-0.985677</td>\n",
              "      <td>-0.899854</td>\n",
              "      <td>-0.546670</td>\n",
              "      <td>-0.863019</td>\n",
              "      <td>-1.148342</td>\n",
              "      <td>-1.284036</td>\n",
              "      <td>-1.072048</td>\n",
              "      <td>-1.265364</td>\n",
              "      <td>-1.525787</td>\n",
              "      <td>-0.463571</td>\n",
              "      <td>0.603565</td>\n",
              "      <td>-0.362336</td>\n",
              "      <td>-0.983932</td>\n",
              "      <td>-0.018408</td>\n",
              "      <td>0.789147</td>\n",
              "      <td>0.789147</td>\n",
              "      <td>0.789147</td>\n",
              "      <td>0.508000</td>\n",
              "    </tr>\n",
              "    <tr>\n",
              "      <th>3</th>\n",
              "      <td>0.342248</td>\n",
              "      <td>-0.235276</td>\n",
              "      <td>-0.319962</td>\n",
              "      <td>-0.115149</td>\n",
              "      <td>-0.084682</td>\n",
              "      <td>0.046874</td>\n",
              "      <td>0.330817</td>\n",
              "      <td>0.104191</td>\n",
              "      <td>-0.042752</td>\n",
              "      <td>-0.630124</td>\n",
              "      <td>-0.380936</td>\n",
              "      <td>-0.564075</td>\n",
              "      <td>-0.100147</td>\n",
              "      <td>0.186815</td>\n",
              "      <td>0.138069</td>\n",
              "      <td>-0.155753</td>\n",
              "      <td>-0.580399</td>\n",
              "      <td>-0.125489</td>\n",
              "      <td>0.295056</td>\n",
              "      <td>0.295056</td>\n",
              "      <td>0.295056</td>\n",
              "      <td>3.225002</td>\n",
              "    </tr>\n",
              "    <tr>\n",
              "      <th>4</th>\n",
              "      <td>0.271889</td>\n",
              "      <td>1.524727</td>\n",
              "      <td>1.729304</td>\n",
              "      <td>1.455931</td>\n",
              "      <td>1.168264</td>\n",
              "      <td>1.269731</td>\n",
              "      <td>1.468212</td>\n",
              "      <td>1.250610</td>\n",
              "      <td>1.008907</td>\n",
              "      <td>0.877051</td>\n",
              "      <td>0.994694</td>\n",
              "      <td>0.954278</td>\n",
              "      <td>0.779594</td>\n",
              "      <td>-0.061186</td>\n",
              "      <td>-1.365840</td>\n",
              "      <td>0.603632</td>\n",
              "      <td>1.172197</td>\n",
              "      <td>-1.450401</td>\n",
              "      <td>-2.833172</td>\n",
              "      <td>-2.833172</td>\n",
              "      <td>-2.833172</td>\n",
              "      <td>0.010000</td>\n",
              "    </tr>\n",
              "  </tbody>\n",
              "</table>\n",
              "</div>"
            ],
            "text/plain": [
              "   minutes_past       Ref  Ref_5x5_10th  ...  Kdp_5x5_50th  Kdp_5x5_90th  Expected\n",
              "0      0.623684 -0.599943     -0.023069  ...      0.126291      0.126291  1.016001\n",
              "1      0.482966  0.622764      0.017337  ...      0.789147      0.789147  4.064002\n",
              "2     -2.683185 -0.829775     -0.910235  ...      0.789147      0.789147  0.508000\n",
              "3      0.342248 -0.235276     -0.319962  ...      0.295056      0.295056  3.225002\n",
              "4      0.271889  1.524727      1.729304  ...     -2.833172     -2.833172  0.010000\n",
              "\n",
              "[5 rows x 22 columns]"
            ]
          },
          "metadata": {
            "tags": []
          },
          "execution_count": 60
        }
      ]
    },
    {
      "cell_type": "code",
      "metadata": {
        "id": "pJhHEIXyRFFF"
      },
      "source": [
        "x=train_final.iloc[:,:-1]\n",
        "y=train_final.iloc[:,-1]"
      ],
      "execution_count": null,
      "outputs": []
    },
    {
      "cell_type": "code",
      "metadata": {
        "id": "qg4zorO7MKbY"
      },
      "source": [
        "\n",
        "params={\n",
        " \"learning_rate\"    : [0.05, 0.10, 0.15, 0.20, 0.25, 0.30 ] ,\n",
        " \"max_depth\"        : [ 3, 4, 5, 6, 8, 10, 12, 15],\n",
        " \"min_child_weight\" : [ 1, 3, 5, 7 ],\n",
        " \"gamma\"            : [ 0.0, 0.1, 0.2 , 0.3, 0.4 ],\n",
        " \"colsample_bytree\" : [ 0.3, 0.4, 0.5 , 0.7 ]\n",
        "    \n",
        "}"
      ],
      "execution_count": null,
      "outputs": []
    },
    {
      "cell_type": "code",
      "metadata": {
        "id": "sGpdBqVaM-Hz"
      },
      "source": [
        "from sklearn.model_selection import RandomizedSearchCV, GridSearchCV\n",
        "import xgboost"
      ],
      "execution_count": null,
      "outputs": []
    },
    {
      "cell_type": "code",
      "metadata": {
        "id": "kfUe-oJJOlWZ"
      },
      "source": [
        "def timer(start_time=None):\n",
        "    if not start_time:\n",
        "        start_time = datetime.now()\n",
        "        return start_time\n",
        "    elif start_time:\n",
        "        thour, temp_sec = divmod((datetime.now() - start_time).total_seconds(), 3600)\n",
        "        tmin, tsec = divmod(temp_sec, 60)\n",
        "        print('\\n Time taken: %i hours %i minutes and %s seconds.' % (thour, tmin, round(tsec, 2)))"
      ],
      "execution_count": null,
      "outputs": []
    },
    {
      "cell_type": "code",
      "metadata": {
        "id": "5k_RgEINOnHB"
      },
      "source": [
        "mod = xgboost.XGBRegressor()"
      ],
      "execution_count": null,
      "outputs": []
    },
    {
      "cell_type": "code",
      "metadata": {
        "id": "5J0YA8pZOvgn"
      },
      "source": [
        "random_search=RandomizedSearchCV(mod,param_distributions=params,n_iter=5,n_jobs=-1,cv=5,verbose=3)"
      ],
      "execution_count": null,
      "outputs": []
    },
    {
      "cell_type": "code",
      "metadata": {
        "colab": {
          "base_uri": "https://localhost:8080/"
        },
        "id": "ZYr0JllvRNNr",
        "outputId": "ce6018c8-da5c-42df-f5b2-abb9c0091474"
      },
      "source": [
        "from datetime import datetime\n",
        "# Here we go\n",
        "start_time = timer(None) # timing starts from this point for \"start_time\" variable\n",
        "random_search.fit(x,y)\n",
        "timer(start_time) #"
      ],
      "execution_count": null,
      "outputs": [
        {
          "output_type": "stream",
          "text": [
            "Fitting 5 folds for each of 5 candidates, totalling 25 fits\n"
          ],
          "name": "stdout"
        },
        {
          "output_type": "stream",
          "text": [
            "[Parallel(n_jobs=-1)]: Using backend LokyBackend with 2 concurrent workers.\n",
            "[Parallel(n_jobs=-1)]: Done  25 out of  25 | elapsed:  8.8min finished\n"
          ],
          "name": "stderr"
        },
        {
          "output_type": "stream",
          "text": [
            "[12:23:53] WARNING: /workspace/src/objective/regression_obj.cu:152: reg:linear is now deprecated in favor of reg:squarederror.\n",
            "\n",
            " Time taken: 0 hours 9 minutes and 20.63 seconds.\n"
          ],
          "name": "stdout"
        }
      ]
    },
    {
      "cell_type": "code",
      "metadata": {
        "colab": {
          "base_uri": "https://localhost:8080/"
        },
        "id": "h0jntXlQRUVI",
        "outputId": "e52981d6-a3d3-4abd-fd88-d7a93a59957d"
      },
      "source": [
        "random_search.best_estimator_"
      ],
      "execution_count": null,
      "outputs": [
        {
          "output_type": "execute_result",
          "data": {
            "text/plain": [
              "XGBRegressor(base_score=0.5, booster='gbtree', colsample_bylevel=1,\n",
              "             colsample_bynode=1, colsample_bytree=0.4, gamma=0.4,\n",
              "             importance_type='gain', learning_rate=0.1, max_delta_step=0,\n",
              "             max_depth=10, min_child_weight=1, missing=None, n_estimators=100,\n",
              "             n_jobs=1, nthread=None, objective='reg:linear', random_state=0,\n",
              "             reg_alpha=0, reg_lambda=1, scale_pos_weight=1, seed=None,\n",
              "             silent=None, subsample=1, verbosity=1)"
            ]
          },
          "metadata": {
            "tags": []
          },
          "execution_count": 68
        }
      ]
    },
    {
      "cell_type": "code",
      "metadata": {
        "colab": {
          "base_uri": "https://localhost:8080/"
        },
        "id": "D0DfiiEvbgsL",
        "outputId": "ccb7808d-6d73-4217-a7f7-bed49e9b869c"
      },
      "source": [
        "random_search.best_params_"
      ],
      "execution_count": null,
      "outputs": [
        {
          "output_type": "execute_result",
          "data": {
            "text/plain": [
              "{'colsample_bytree': 0.4,\n",
              " 'gamma': 0.4,\n",
              " 'learning_rate': 0.1,\n",
              " 'max_depth': 10,\n",
              " 'min_child_weight': 1}"
            ]
          },
          "metadata": {
            "tags": []
          },
          "execution_count": 69
        }
      ]
    },
    {
      "cell_type": "code",
      "metadata": {
        "id": "WP1V_Bwobo8w"
      },
      "source": [
        "mod=xgboost.XGBRegressor(base_score=0.5, booster='gbtree', colsample_bylevel=1,\n",
        "             colsample_bynode=1, colsample_bytree=0.4, gamma=0.4,\n",
        "             importance_type='gain', learning_rate=0.1, max_delta_step=0,\n",
        "             max_depth=10, min_child_weight=1, missing=None, n_estimators=100,\n",
        "             n_jobs=1, nthread=None, objective='reg:linear', random_state=0,\n",
        "             reg_alpha=0, reg_lambda=1, scale_pos_weight=1, seed=None,\n",
        "             silent=None, subsample=1, verbosity=1)"
      ],
      "execution_count": null,
      "outputs": []
    },
    {
      "cell_type": "code",
      "metadata": {
        "colab": {
          "base_uri": "https://localhost:8080/"
        },
        "id": "28HnbIOQbvTf",
        "outputId": "7629f9a3-d616-4d66-a4f7-a8187e301eb1"
      },
      "source": [
        "from sklearn.model_selection import cross_val_score\n",
        "score=cross_val_score(mod,x,y,cv=10)"
      ],
      "execution_count": null,
      "outputs": [
        {
          "output_type": "stream",
          "text": [
            "[12:27:16] WARNING: /workspace/src/objective/regression_obj.cu:152: reg:linear is now deprecated in favor of reg:squarederror.\n",
            "[12:27:44] WARNING: /workspace/src/objective/regression_obj.cu:152: reg:linear is now deprecated in favor of reg:squarederror.\n",
            "[12:28:12] WARNING: /workspace/src/objective/regression_obj.cu:152: reg:linear is now deprecated in favor of reg:squarederror.\n",
            "[12:28:40] WARNING: /workspace/src/objective/regression_obj.cu:152: reg:linear is now deprecated in favor of reg:squarederror.\n",
            "[12:29:12] WARNING: /workspace/src/objective/regression_obj.cu:152: reg:linear is now deprecated in favor of reg:squarederror.\n",
            "[12:29:40] WARNING: /workspace/src/objective/regression_obj.cu:152: reg:linear is now deprecated in favor of reg:squarederror.\n",
            "[12:30:08] WARNING: /workspace/src/objective/regression_obj.cu:152: reg:linear is now deprecated in favor of reg:squarederror.\n",
            "[12:30:36] WARNING: /workspace/src/objective/regression_obj.cu:152: reg:linear is now deprecated in favor of reg:squarederror.\n",
            "[12:31:05] WARNING: /workspace/src/objective/regression_obj.cu:152: reg:linear is now deprecated in favor of reg:squarederror.\n",
            "[12:31:33] WARNING: /workspace/src/objective/regression_obj.cu:152: reg:linear is now deprecated in favor of reg:squarederror.\n"
          ],
          "name": "stdout"
        }
      ]
    },
    {
      "cell_type": "code",
      "metadata": {
        "colab": {
          "base_uri": "https://localhost:8080/"
        },
        "id": "sANOEDIHb7da",
        "outputId": "45d958c1-7bf2-4770-e113-09138fd397a6"
      },
      "source": [
        "score"
      ],
      "execution_count": null,
      "outputs": [
        {
          "output_type": "execute_result",
          "data": {
            "text/plain": [
              "array([-0.00181094,  0.00932676,  0.04238195,  0.01535463, -0.00630217,\n",
              "       -0.00425534,  0.06288045,  0.01199729,  0.05335907, -0.03241413])"
            ]
          },
          "metadata": {
            "tags": []
          },
          "execution_count": 74
        }
      ]
    },
    {
      "cell_type": "code",
      "metadata": {
        "colab": {
          "base_uri": "https://localhost:8080/"
        },
        "id": "0b-cwsOCcHCw",
        "outputId": "bdbba091-59e2-40d7-b41b-90f2c7097051"
      },
      "source": [
        "score.mean()"
      ],
      "execution_count": null,
      "outputs": [
        {
          "output_type": "execute_result",
          "data": {
            "text/plain": [
              "0.015051756121010118"
            ]
          },
          "metadata": {
            "tags": []
          },
          "execution_count": 75
        }
      ]
    },
    {
      "cell_type": "code",
      "metadata": {
        "id": "iGNci0XuiL91"
      },
      "source": [
        "x1=np.array(x)\n",
        "y1=np.array(y)"
      ],
      "execution_count": null,
      "outputs": []
    },
    {
      "cell_type": "code",
      "metadata": {
        "id": "F2Qt2GThiYvT"
      },
      "source": [
        "mod1=xgboost.XGBRegressor(base_score=0.5, booster='gbtree', colsample_bylevel=1,\n",
        "             colsample_bynode=1, colsample_bytree=0.4, gamma=0.4,\n",
        "             importance_type='gain', learning_rate=0.1, max_delta_step=0,\n",
        "             max_depth=10, min_child_weight=1, missing=None, n_estimators=100,\n",
        "             n_jobs=1, nthread=None, objective='reg:linear', random_state=0,\n",
        "             reg_alpha=0, reg_lambda=1, scale_pos_weight=1, seed=None,\n",
        "             silent=None, subsample=1, verbosity=1)"
      ],
      "execution_count": null,
      "outputs": []
    }
  ]
}